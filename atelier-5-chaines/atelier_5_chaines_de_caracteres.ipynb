{
 "cells": [
  {
   "cell_type": "markdown",
   "metadata": {},
   "source": [
    "# 🧪 Atelier : Opérations sur les chaînes de caractères\n",
    "\n",
    "Cet atelier a pour objectif de manipuler des chaînes de caractères à l’aide de fonctions spécifiques en Python.\n",
    "\n",
    "## 🎯 Objectifs pédagogiques\n",
    "- Utiliser des fonctions spécifiques pour effectuer des opérations sur les chaînes de caractères.\n",
    "- Développer des fonctions réutilisables pour manipuler des chaînes de caractères.\n"
   ]
  },
  {
   "cell_type": "markdown",
   "metadata": {},
   "source": [
    "## 1️⃣ Inversion de chaîne\n",
    "Écrivons une fonction `inverser_chaine(chaine)` qui retourne la chaîne inversée."
   ]
  },
  {
   "cell_type": "code",
   "execution_count": 1,
   "metadata": {},
   "outputs": [
    {
     "name": "stdout",
     "output_type": "stream",
     "text": [
      "Original : Bonjour | Inversé : ruojnoB\n"
     ]
    }
   ],
   "source": [
    "def inverser_chaine(chaine):\n",
    "    \"\"\"Retourne la chaîne de caractères inversée.\"\"\"\n",
    "    return chaine[::-1]\n",
    "\n",
    "# Exemple d'utilisation\n",
    "texte = \"Bonjour\"\n",
    "print(f\"Original : {texte} | Inversé : {inverser_chaine(texte)}\")"
   ]
  },
  {
   "cell_type": "markdown",
   "metadata": {},
   "source": [
    "## 2️⃣ Compter les voyelles\n",
    "Écrivons une fonction `compter_voyelles(chaine)` qui retourne le nombre de voyelles dans une chaîne donnée."
   ]
  },
  {
   "cell_type": "code",
   "execution_count": 2,
   "metadata": {},
   "outputs": [
    {
     "name": "stdout",
     "output_type": "stream",
     "text": [
      "Voyelles dans 'Apprendre Python' : 5\n"
     ]
    }
   ],
   "source": [
    "def compter_voyelles(chaine):\n",
    "    \"\"\"Compte le nombre de voyelles dans la chaîne.\"\"\"\n",
    "    voyelles = 'aeiouyAEIOUY'\n",
    "    return sum(1 for caractere in chaine if caractere in voyelles)\n",
    "\n",
    "# Exemple\n",
    "texte = \"Apprendre Python\"\n",
    "print(f\"Voyelles dans '{texte}' : {compter_voyelles(texte)}\")"
   ]
  },
  {
   "cell_type": "markdown",
   "metadata": {},
   "source": [
    "## 3️⃣ Remplacer les caractères\n",
    "Fonction `remplacer_caractere(chaine, ancien, nouveau)` qui remplace un caractère par un autre."
   ]
  },
  {
   "cell_type": "code",
   "execution_count": 3,
   "metadata": {},
   "outputs": [
    {
     "name": "stdout",
     "output_type": "stream",
     "text": [
      "b*nj*ur le m*nde\n"
     ]
    }
   ],
   "source": [
    "def remplacer_caractere(chaine, ancien, nouveau):\n",
    "    \"\"\"Remplace toutes les occurrences de 'ancien' par 'nouveau'.\"\"\"\n",
    "    return chaine.replace(ancien, nouveau)\n",
    "\n",
    "# Exemple\n",
    "texte = \"bonjour le monde\"\n",
    "print(remplacer_caractere(texte, 'o', '*'))"
   ]
  },
  {
   "cell_type": "markdown",
   "metadata": {},
   "source": [
    "## 4️⃣ Concaténation\n",
    "Fonction `concatener(chaine1, chaine2)` pour concaténer deux chaînes."
   ]
  },
  {
   "cell_type": "code",
   "execution_count": 4,
   "metadata": {},
   "outputs": [
    {
     "name": "stdout",
     "output_type": "stream",
     "text": [
      "Python est génial!\n"
     ]
    }
   ],
   "source": [
    "def concatener(chaine1, chaine2):\n",
    "    \"\"\"Concatène deux chaînes de caractères.\"\"\"\n",
    "    return chaine1 + chaine2\n",
    "\n",
    "# Exemple\n",
    "print(concatener(\"Python \", \"est génial!\"))"
   ]
  },
  {
   "cell_type": "markdown",
   "metadata": {},
   "source": [
    "---\n",
    "\n",
    "## 🎉 Félicitations !\n",
    "Vous venez de mettre en œuvre plusieurs fonctions utiles pour la manipulation de chaînes de caractères en Python.\n",
    "\n",
    "**👉 Ces fonctions sont la base de nombreuses applications réelles, comme le traitement de texte, la validation d’entrée utilisateur ou le nettoyage de données. Continuez à pratiquer ! 🎉**"
   ]
  }
 ],
 "metadata": {
  "kernelspec": {
   "display_name": "Python 3 (ipykernel)",
   "language": "python",
   "name": "python3"
  },
  "language_info": {
   "codemirror_mode": {
    "name": "ipython",
    "version": 3
   },
   "file_extension": ".py",
   "mimetype": "text/x-python",
   "name": "python",
   "nbconvert_exporter": "python",
   "pygments_lexer": "ipython3",
   "version": "3.9.12"
  }
 },
 "nbformat": 4,
 "nbformat_minor": 4
}
