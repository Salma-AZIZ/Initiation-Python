{
 "cells": [
  {
   "cell_type": "markdown",
   "id": "f821814e",
   "metadata": {},
   "source": [
    "# 🧪 Atelier : Compléter nos scripts avec des librairies internes et externes\n",
    "\n",
    "## 🎯 Objectifs pédagogiques\n",
    "- Installer et utiliser des packages comme `requests` et `beautifulsoup4`\n",
    "- Structurer un projet avec des modules (`.py`)\n",
    "- Utiliser un module séparé pour organiser le traitement des données"
   ]
  },
  {
   "cell_type": "markdown",
   "id": "dbb6c811",
   "metadata": {},
   "source": [
    "## 1️⃣ Installation des packages\n",
    "\n",
    "```bash\n",
    "pip install requests beautifulsoup4\n",
    "```\n",
    "\n",
    "Assurez-vous d'avoir exécuté cette commande dans un terminal ou une cellule Jupyter (avec `!pip install`)."
   ]
  },
  {
   "cell_type": "code",
   "execution_count": 1,
   "id": "6daf2ab0",
   "metadata": {},
   "outputs": [
    {
     "name": "stdout",
     "output_type": "stream",
     "text": [
      "Modules importés avec succès ✅\n"
     ]
    }
   ],
   "source": [
    "# ✅ Vérification de l'installation\n",
    "import requests\n",
    "from bs4 import BeautifulSoup\n",
    "print(\"Modules importés avec succès ✅\")"
   ]
  },
  {
   "cell_type": "markdown",
   "id": "5dccc398",
   "metadata": {},
   "source": [
    "## 2️⃣ Requête HTTP et extraction de données"
   ]
  },
  {
   "cell_type": "code",
   "execution_count": 2,
   "id": "7e91de2e",
   "metadata": {},
   "outputs": [
    {
     "name": "stdout",
     "output_type": "stream",
     "text": [
      "- Get Started\n",
      "- Download\n",
      "- Docs\n",
      "- Jobs\n",
      "- Latest News\n",
      "- Upcoming Events\n",
      "- Success Stories\n",
      "- Use Python for…\n",
      "- >>>Python Software Foundation\n"
     ]
    }
   ],
   "source": [
    "import web_utils\n",
    "\n",
    "# Exemple avec la page d'accueil de Python.org\n",
    "url = \"https://www.python.org\"\n",
    "contenu_html = web_utils.recuperer_html(url)\n",
    "titres = web_utils.extraire_titres(contenu_html)\n",
    "for titre in titres:\n",
    "    print(\"-\", titre)"
   ]
  },
  {
   "cell_type": "markdown",
   "id": "93b3c972",
   "metadata": {},
   "source": [
    "## 🧠 Conclusion\n",
    "Grâce à cet atelier, vous avez appris à :\n",
    "- utiliser `requests` pour faire des requêtes web,\n",
    "- parser des pages HTML avec `BeautifulSoup`,\n",
    "- structurer votre projet en séparant les fonctions dans un module dédié.\n",
    "\n",
    "🎉 **Félicitations pour votre travail ! Continuez à explorer l’univers Python, une ligne de code à la fois.**"
   ]
  }
 ],
 "metadata": {
  "kernelspec": {
   "display_name": "Python 3 (ipykernel)",
   "language": "python",
   "name": "python3"
  },
  "language_info": {
   "codemirror_mode": {
    "name": "ipython",
    "version": 3
   },
   "file_extension": ".py",
   "mimetype": "text/x-python",
   "name": "python",
   "nbconvert_exporter": "python",
   "pygments_lexer": "ipython3",
   "version": "3.9.12"
  }
 },
 "nbformat": 4,
 "nbformat_minor": 5
}
