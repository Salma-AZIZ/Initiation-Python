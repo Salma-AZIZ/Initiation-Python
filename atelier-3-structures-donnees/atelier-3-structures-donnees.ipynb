{
 "cells": [
  {
   "cell_type": "markdown",
   "id": "0f71e51b",
   "metadata": {},
   "source": [
    "# 🧪 Atelier 3 – Manipuler les structures de données en Python\n",
    "\n",
    "## 🎯 Objectifs pédagogiques\n",
    "\n",
    "- Utiliser les **listes**, **tuples**, **ensembles** et **dictionnaires**\n",
    "- Convertir des algorithmes en programmes fonctionnels\n",
    "- S'exercer à écrire du code structuré et lisible\n"
   ]
  },
  {
   "cell_type": "markdown",
   "id": "31775175",
   "metadata": {},
   "source": [
    "## 1️⃣ Listes et Tuples\n",
    "\n",
    "### 📌 Étape 1 : Créer une liste de 10 nombres aléatoires et calculer leur somme"
   ]
  },
  {
   "cell_type": "code",
   "execution_count": 1,
   "id": "69eb317b",
   "metadata": {},
   "outputs": [
    {
     "name": "stdout",
     "output_type": "stream",
     "text": [
      "Liste générée : [72, 20, 65, 81, 58, 79, 75, 42, 100, 71]\n",
      "Somme des éléments : 663\n"
     ]
    }
   ],
   "source": [
    "import random\n",
    "\n",
    "# Création d'une liste de 10 nombres aléatoires entre 1 et 100\n",
    "ma_liste = [random.randint(1, 100) for _ in range(10)]\n",
    "print(\"Liste générée :\", ma_liste)\n",
    "\n",
    "# Calcul de la somme des éléments de la liste\n",
    "somme = sum(ma_liste)\n",
    "print(\"Somme des éléments :\", somme)"
   ]
  },
  {
   "cell_type": "markdown",
   "id": "18fc5e99",
   "metadata": {},
   "source": [
    "### 📌 Étape 2 : Convertir la liste en tuple et afficher le max et min"
   ]
  },
  {
   "cell_type": "code",
   "execution_count": 2,
   "id": "572feccd",
   "metadata": {},
   "outputs": [
    {
     "name": "stdout",
     "output_type": "stream",
     "text": [
      "Tuple : (72, 20, 65, 81, 58, 79, 75, 42, 100, 71)\n",
      "Maximum : 100\n",
      "Minimum : 20\n"
     ]
    }
   ],
   "source": [
    "# Conversion de la liste en tuple\n",
    "mon_tuple = tuple(ma_liste)\n",
    "print(\"Tuple :\", mon_tuple)\n",
    "\n",
    "# Recherche du maximum et minimum\n",
    "max_val = max(mon_tuple)\n",
    "min_val = min(mon_tuple)\n",
    "print(\"Maximum :\", max_val)\n",
    "print(\"Minimum :\", min_val)"
   ]
  },
  {
   "cell_type": "markdown",
   "id": "35f35d18",
   "metadata": {},
   "source": [
    "## 2️⃣ Ensembles\n",
    "\n",
    "### 📌 Créer deux ensembles et afficher l’union, l’intersection et la différence"
   ]
  },
  {
   "cell_type": "code",
   "execution_count": 3,
   "id": "fad7c4c1",
   "metadata": {},
   "outputs": [
    {
     "name": "stdout",
     "output_type": "stream",
     "text": [
      "Union : {1, 2, 3, 4, 5, 6, 7, 8}\n",
      "Intersection : {4, 5}\n",
      "Différence (ensemble1 - ensemble2) : {1, 2, 3}\n"
     ]
    }
   ],
   "source": [
    "# Création de deux ensembles\n",
    "ensemble1 = {1, 2, 3, 4, 5}\n",
    "ensemble2 = {4, 5, 6, 7, 8}\n",
    "\n",
    "# Opérations sur les ensembles\n",
    "union = ensemble1 | ensemble2\n",
    "intersection = ensemble1 & ensemble2\n",
    "difference = ensemble1 - ensemble2\n",
    "\n",
    "print(\"Union :\", union)\n",
    "print(\"Intersection :\", intersection)\n",
    "print(\"Différence (ensemble1 - ensemble2) :\", difference)"
   ]
  },
  {
   "cell_type": "markdown",
   "id": "6caaffe2",
   "metadata": {},
   "source": [
    "## 3️⃣ Dictionnaires\n",
    "\n",
    "### 📌 Créer un dictionnaire d’étudiants et leurs notes, calculer la moyenne et trouver la meilleure note"
   ]
  },
  {
   "cell_type": "code",
   "execution_count": 4,
   "id": "5c5641b6",
   "metadata": {},
   "outputs": [
    {
     "name": "stdout",
     "output_type": "stream",
     "text": [
      "Moyenne des notes : 13.75\n",
      "Meilleure note : 18 par Clara\n"
     ]
    }
   ],
   "source": [
    "# Dictionnaire de notes\n",
    "notes = {'Alice': 15, 'Bob': 12, 'Clara': 18, 'David': 10}\n",
    "\n",
    "# Calcul de la moyenne\n",
    "moyenne = sum(notes.values()) / len(notes)\n",
    "print(\"Moyenne des notes :\", moyenne)\n",
    "\n",
    "# Recherche de l'étudiant ayant la meilleure note\n",
    "meilleur_etudiant = max(notes, key=notes.get)\n",
    "print(\"Meilleure note :\", notes[meilleur_etudiant], \"par\", meilleur_etudiant)"
   ]
  },
  {
   "cell_type": "markdown",
   "id": "89c9ad4d",
   "metadata": {},
   "source": [
    "---\n",
    "\n",
    "## 🎉 Félicitations !\n",
    "\n",
    "Vous venez de manipuler les quatre structures de données fondamentales en Python :\n",
    "- Les **listes** pour stocker des collections ordonnées\n",
    "- Les **tuples** pour des données immuables\n",
    "- Les **ensembles** pour des éléments uniques et non ordonnés\n",
    "- Les **dictionnaires** pour des associations clé-valeur rapides\n",
    "\n",
    "Bravo pour votre travail ! Continuez à expérimenter et à vous entraîner – c’est ainsi que l’on progresse ! 🐍💪\n"
   ]
  }
 ],
 "metadata": {
  "kernelspec": {
   "display_name": "Python 3 (ipykernel)",
   "language": "python",
   "name": "python3"
  },
  "language_info": {
   "codemirror_mode": {
    "name": "ipython",
    "version": 3
   },
   "file_extension": ".py",
   "mimetype": "text/x-python",
   "name": "python",
   "nbconvert_exporter": "python",
   "pygments_lexer": "ipython3",
   "version": "3.9.12"
  }
 },
 "nbformat": 4,
 "nbformat_minor": 5
}
