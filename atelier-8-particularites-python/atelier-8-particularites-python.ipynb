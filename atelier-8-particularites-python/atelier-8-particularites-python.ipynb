{
 "cells": [
  {
   "cell_type": "markdown",
   "id": "d4c11d4d",
   "metadata": {},
   "source": [
    "# Atelier 8 – Particularités du langage Python\n",
    "Ce notebook présente une solution détaillée à l'atelier 8."
   ]
  },
  {
   "cell_type": "markdown",
   "id": "45fefd91",
   "metadata": {},
   "source": [
    "## 1. Fonctions de première classe"
   ]
  },
  {
   "cell_type": "code",
   "execution_count": 1,
   "id": "3b0ca6b0",
   "metadata": {},
   "outputs": [
    {
     "name": "stdout",
     "output_type": "stream",
     "text": [
      "Résultats de l'application de la fonction: [2, 4, 6, 8, 10]\n"
     ]
    }
   ],
   "source": [
    "def appliquer_operation_sur_liste(fonction, liste):\n",
    "    \"\"\"Applique une fonction donnée à chaque élément de la liste.\"\"\"\n",
    "    return [fonction(x) for x in liste]\n",
    "\n",
    "# Exemple d'utilisation\n",
    "def doubler(x):\n",
    "    return x * 2\n",
    "\n",
    "nombres = [1, 2, 3, 4, 5]\n",
    "resultats = appliquer_operation_sur_liste(doubler, nombres)\n",
    "print(\"Résultats de l'application de la fonction:\", resultats)"
   ]
  },
  {
   "cell_type": "markdown",
   "id": "92696bf1",
   "metadata": {},
   "source": [
    "## 2. Compréhensions de listes"
   ]
  },
  {
   "cell_type": "code",
   "execution_count": 2,
   "id": "49aca5b3",
   "metadata": {},
   "outputs": [
    {
     "name": "stdout",
     "output_type": "stream",
     "text": [
      "Carrés des nombres pairs de 1 à 20: [4, 16, 36, 64, 100, 144, 196, 256, 324, 400]\n"
     ]
    }
   ],
   "source": [
    "# Liste des carrés des nombres pairs de 1 à 20\n",
    "carres_pairs = [x**2 for x in range(1, 21) if x % 2 == 0]\n",
    "print(\"Carrés des nombres pairs de 1 à 20:\", carres_pairs)"
   ]
  },
  {
   "cell_type": "markdown",
   "id": "3dd019bd",
   "metadata": {},
   "source": [
    "## 3. Générateurs"
   ]
  },
  {
   "cell_type": "code",
   "execution_count": 3,
   "id": "7e325ab7",
   "metadata": {},
   "outputs": [
    {
     "name": "stdout",
     "output_type": "stream",
     "text": [
      "Premiers 10 nombres pairs générés :\n",
      "0\n",
      "2\n",
      "4\n",
      "6\n",
      "8\n",
      "10\n",
      "12\n",
      "14\n",
      "16\n",
      "18\n"
     ]
    }
   ],
   "source": [
    "def generateur_nombres_pairs(n):\n",
    "    for i in range(n):\n",
    "        yield i * 2\n",
    "\n",
    "# Utilisation\n",
    "print(\"Premiers 10 nombres pairs générés :\")\n",
    "for nombre in generateur_nombres_pairs(10):\n",
    "    print(nombre)\n"
   ]
  },
  {
   "cell_type": "code",
   "execution_count": 4,
   "id": "4a3dc90c-1096-4d0b-a9d7-1b247378b253",
   "metadata": {},
   "outputs": [],
   "source": [
    "def gen(n):\n",
    "    for i in range(n):\n",
    "        yield i * 2"
   ]
  },
  {
   "cell_type": "code",
   "execution_count": 6,
   "id": "e8a372d1-46da-4458-95ab-7e7aedcaef96",
   "metadata": {},
   "outputs": [
    {
     "name": "stdout",
     "output_type": "stream",
     "text": [
      "0\n",
      "0\n"
     ]
    }
   ],
   "source": [
    "print(next(gen(5)))\n",
    "print(next(gen(5)))"
   ]
  },
  {
   "cell_type": "markdown",
   "id": "0d626487",
   "metadata": {},
   "source": [
    "## 4. Décorateurs"
   ]
  },
  {
   "cell_type": "code",
   "execution_count": 9,
   "id": "a96751d4",
   "metadata": {},
   "outputs": [
    {
     "name": "stdout",
     "output_type": "stream",
     "text": [
      "[LOG] Appel de multiplication avec les arguments (3, 4) {}\n",
      "[LOG] multiplication a retourné 12\n",
      "Résultat final : 12\n"
     ]
    }
   ],
   "source": [
    "def decorateur_journalisation(fonction):\n",
    "    def fonction_modifiee(*args, **kwargs):\n",
    "        print(f\"[LOG] Appel de {fonction.__name__} avec les arguments {args} {kwargs}\")\n",
    "        resultat = fonction(*args, **kwargs)\n",
    "        print(f\"[LOG] {fonction.__name__} a retourné {resultat}\")\n",
    "        return resultat\n",
    "    return fonction_modifiee\n",
    "\n",
    "@decorateur_journalisation\n",
    "def multiplication(a, b):\n",
    "    return a * b\n",
    "\n",
    "# Test du décorateur\n",
    "print(\"Résultat final :\", multiplication(3, 4))"
   ]
  },
  {
   "cell_type": "markdown",
   "id": "a00a2f09",
   "metadata": {},
   "source": [
    "## 🎉 Félicitations !\n",
    "Vous venez de mettre en pratique plusieurs concepts puissants de Python. Ces outils vous aideront à écrire un code plus lisible, réutilisable et performant."
   ]
  }
 ],
 "metadata": {
  "kernelspec": {
   "display_name": "Python 3 (ipykernel)",
   "language": "python",
   "name": "python3"
  },
  "language_info": {
   "codemirror_mode": {
    "name": "ipython",
    "version": 3
   },
   "file_extension": ".py",
   "mimetype": "text/x-python",
   "name": "python",
   "nbconvert_exporter": "python",
   "pygments_lexer": "ipython3",
   "version": "3.9.12"
  }
 },
 "nbformat": 4,
 "nbformat_minor": 5
}
