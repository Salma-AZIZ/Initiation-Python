{
 "cells": [
  {
   "cell_type": "markdown",
   "id": "b4679bfb-5023-4ca4-b328-f75bb6c16d8f",
   "metadata": {},
   "source": [
    "# Atelier 9 : Application orientée objet – Gestion de bibliothèque"
   ]
  },
  {
   "cell_type": "markdown",
   "id": "affcaa7b-52b8-46fe-a030-7f2b7a1c6130",
   "metadata": {},
   "source": [
    "Dans cet atelier, nous partons d’un petit script procédural que nous allons transformer progressivement en une version orientée objet.\n",
    "\n",
    "### Example de script de départ (procédural)\n",
    "Nous utilisons ici un exemple de gestion d'une bibliothèque simple avec un dictionnaire.\n"
   ]
  },
  {
   "cell_type": "code",
   "execution_count": 1,
   "id": "c2510ee1",
   "metadata": {},
   "outputs": [
    {
     "name": "stdout",
     "output_type": "stream",
     "text": [
      "1984 de George Orwell\n",
      "Le Petit Prince de Antoine de Saint-Exupéry\n",
      "1984 supprimé.\n",
      "Le Petit Prince de Antoine de Saint-Exupéry\n"
     ]
    }
   ],
   "source": [
    "# Version procédurale de la gestion de bibliothèque\n",
    "bibliotheque = {}\n",
    "\n",
    "def ajouter_livre(titre, auteur):\n",
    "    bibliotheque[titre] = auteur\n",
    "\n",
    "def afficher_livres():\n",
    "    for titre, auteur in bibliotheque.items():\n",
    "        print(f\"{titre} de {auteur}\")\n",
    "\n",
    "def supprimer_livre(titre):\n",
    "    if titre in bibliotheque:\n",
    "        del bibliotheque[titre]\n",
    "        print(f\"{titre} supprimé.\")\n",
    "    else:\n",
    "        print(\"Livre non trouvé.\")\n",
    "\n",
    "# Exemple d'utilisation\n",
    "ajouter_livre(\"1984\", \"George Orwell\")\n",
    "ajouter_livre(\"Le Petit Prince\", \"Antoine de Saint-Exupéry\")\n",
    "afficher_livres()\n",
    "supprimer_livre(\"1984\")\n",
    "afficher_livres()"
   ]
  },
  {
   "cell_type": "markdown",
   "id": "06a8c2c2",
   "metadata": {},
   "source": [
    "## Étapes de refactorisation vers la Programmation Orientée Objet (POO)\n",
    "\n",
    "Nous allons maintenant refactoriser ce code en plusieurs étapes :\n",
    "1. Création d’une classe `Livre` pour représenter les livres.\n",
    "2. Création d’une classe `Bibliotheque` pour gérer la collection de livres.\n",
    "3. Encapsulation des attributs internes (utilisation de noms protégés ou privés).\n",
    "4. Utilisation de l’héritage et du polymorphisme pour étendre le système.\n",
    "5. Ajout de l’introspection pour examiner dynamiquement les objets.\n"
   ]
  },
  {
   "cell_type": "markdown",
   "id": "c40ade32",
   "metadata": {},
   "source": [
    "## Refactorisation orientée objet"
   ]
  },
  {
   "cell_type": "code",
   "execution_count": 2,
   "id": "31c50176",
   "metadata": {},
   "outputs": [],
   "source": [
    "class Livre:\n",
    "    def __init__(self, titre, auteur):\n",
    "        self._titre = titre\n",
    "        self._auteur = auteur\n",
    "        self._emprunte = False\n",
    "    def afficher_info(self):\n",
    "        return f\"{self._titre} par {self._auteur}\"\n",
    "    def emprunter(self):\n",
    "        if not self._emprunte:\n",
    "            self._emprunte = True\n",
    "            return True\n",
    "        return False\n",
    "    def est_emprunte(self):\n",
    "        return self._emprunte"
   ]
  },
  {
   "cell_type": "code",
   "execution_count": 3,
   "id": "dcd1f16f",
   "metadata": {},
   "outputs": [],
   "source": [
    "class Utilisateur:\n",
    "    def __init__(self, nom):\n",
    "        self.nom = nom\n",
    "        self.livres = []\n",
    "    def emprunter_livre(self, livre):\n",
    "        if livre.emprunter():\n",
    "            self.livres.append(livre)\n",
    "            print(f\"{self.nom} a emprunté : {livre.afficher_info()}\")\n",
    "        else:\n",
    "            print(f\"Le livre {livre.afficher_info()} est déjà emprunté.\")\n",
    "    def afficher_livres_empruntes(self):\n",
    "        for livre in self.livres:\n",
    "            print(livre.afficher_info())"
   ]
  },
  {
   "cell_type": "code",
   "execution_count": 4,
   "id": "cf15a429",
   "metadata": {},
   "outputs": [],
   "source": [
    "class Bibliotheque:\n",
    "    def __init__(self, nom):\n",
    "        self.nom = nom\n",
    "        self._livres = []\n",
    "    def ajouter_livre(self, livre):\n",
    "        self._livres.append(livre)\n",
    "    def lister_livres(self):\n",
    "        for livre in self._livres:\n",
    "            print(livre.afficher_info())"
   ]
  },
  {
   "cell_type": "code",
   "execution_count": 5,
   "id": "2639904b-38d0-4963-ba19-19a9f0d43827",
   "metadata": {},
   "outputs": [
    {
     "name": "stdout",
     "output_type": "stream",
     "text": [
      "Alice a emprunté : 1984 par George Orwell\n",
      "\n",
      "Livres empruntés :\n",
      "1984 par George Orwell\n",
      "\n",
      "Introspection sur l'utilisateur :\n",
      "Attributs : ['__class__', '__delattr__', '__dict__', '__dir__', '__doc__', '__eq__', '__format__', '__ge__', '__getattribute__', '__gt__', '__hash__', '__init__', '__init_subclass__', '__le__', '__lt__', '__module__', '__ne__', '__new__', '__reduce__', '__reduce_ex__', '__repr__', '__setattr__', '__sizeof__', '__str__', '__subclasshook__', '__weakref__', 'afficher_livres_empruntes', 'emprunter_livre', 'livres', 'nom']\n"
     ]
    }
   ],
   "source": [
    "# Création de la bibliothèque\n",
    "biblio = Bibliotheque(\"Centrale\")\n",
    "\n",
    "# Ajout de livres\n",
    "livre1 = Livre(\"1984\", \"George Orwell\")\n",
    "livre2 = Livre(\"Le Petit Prince\", \"Antoine de Saint-Exupéry\")\n",
    "biblio.ajouter_livre(livre1)\n",
    "biblio.ajouter_livre(livre2)\n",
    "\n",
    "# Création d’un utilisateur\n",
    "utilisateur = Utilisateur(\"Alice\")\n",
    "\n",
    "# Emprunter un livre\n",
    "utilisateur.emprunter_livre(livre1)\n",
    "\n",
    "# Affichage\n",
    "print(\"\\nLivres empruntés :\")\n",
    "utilisateur.afficher_livres_empruntes()\n",
    "\n",
    "# Introspection\n",
    "print(\"\\nIntrospection sur l'utilisateur :\")\n",
    "print(\"Attributs :\", dir(utilisateur))"
   ]
  },
  {
   "cell_type": "markdown",
   "id": "05da57a7",
   "metadata": {},
   "source": [
    "🎉 **Félicitations !** Vous avez brillamment structuré une application orientée objet en Python. Continuez à explorer les concepts de la POO pour rendre vos applications encore plus modulaires et robustes !"
   ]
  }
 ],
 "metadata": {
  "kernelspec": {
   "display_name": "Python 3 (ipykernel)",
   "language": "python",
   "name": "python3"
  },
  "language_info": {
   "codemirror_mode": {
    "name": "ipython",
    "version": 3
   },
   "file_extension": ".py",
   "mimetype": "text/x-python",
   "name": "python",
   "nbconvert_exporter": "python",
   "pygments_lexer": "ipython3",
   "version": "3.9.12"
  }
 },
 "nbformat": 4,
 "nbformat_minor": 5
}
