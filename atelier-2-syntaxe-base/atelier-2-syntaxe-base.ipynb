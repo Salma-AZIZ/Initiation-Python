{
 "cells": [
  {
   "cell_type": "markdown",
   "id": "01b469d5-5281-4985-8db0-36c71b112b30",
   "metadata": {},
   "source": [
    "# 🧪 Atelier 2 – Maîtriser la syntaxe de base en Python"
   ]
  },
  {
   "cell_type": "markdown",
   "id": "c703dc99-f129-40e6-b761-1001336822d0",
   "metadata": {},
   "source": [
    "## 🎯 Objectifs pédagogiques\n",
    "\n",
    "* Utiliser des **variables** et des **opérateurs** pour effectuer des **calculs simples**\n",
    "* Écrire des **structures de contrôle de flux** : conditions, boucles"
   ]
  },
  {
   "cell_type": "markdown",
   "id": "98248a06-c414-4fb0-a854-ca33805022e2",
   "metadata": {},
   "source": [
    "## 📝 Partie 1 – Opérations arithmétiques"
   ]
  },
  {
   "cell_type": "markdown",
   "id": "55a4ab31-f1ae-4468-87dd-eeea2c76ba2b",
   "metadata": {},
   "source": [
    "Nous allons déclarer deux variables `a` et `b` et effectuer les opérations suivantes :\n",
    "\n",
    "* addition (`+`)\n",
    "* soustraction (`-`)\n",
    "* multiplication (`*`)\n",
    "* division (`/`)\n",
    "* puissance (`**`)"
   ]
  },
  {
   "cell_type": "code",
   "execution_count": 1,
   "id": "0e1a8899-8fc8-4010-9caf-b56a671c9e10",
   "metadata": {},
   "outputs": [
    {
     "name": "stdout",
     "output_type": "stream",
     "text": [
      "Addition : 14\n",
      "Soustraction : 6\n",
      "Multiplication : 40\n",
      "Division : 2.5\n",
      "Puissance (a ** b) : 10000\n"
     ]
    }
   ],
   "source": [
    "# Déclaration des variables\n",
    "a = 10\n",
    "b = 4\n",
    "\n",
    "# Opérations arithmétiques\n",
    "addition = a + b\n",
    "soustraction = a - b\n",
    "multiplication = a * b\n",
    "division = a / b\n",
    "puissance = a ** b\n",
    "\n",
    "# Affichage des résultats\n",
    "print(\"Addition :\", addition)\n",
    "print(\"Soustraction :\", soustraction)\n",
    "print(\"Multiplication :\", multiplication)\n",
    "print(\"Division :\", division)\n",
    "print(\"Puissance (a ** b) :\", puissance)"
   ]
  },
  {
   "cell_type": "markdown",
   "id": "f9c81058-b85e-45f0-8764-1efe28357ca0",
   "metadata": {},
   "source": [
    "## 🧾 Partie 2 – Conditions (if / else)"
   ]
  },
  {
   "cell_type": "markdown",
   "id": "238ab4a2-71ce-4e30-b0d5-5dd2c2b0389f",
   "metadata": {},
   "source": [
    "Nous allons vérifier si `a` est supérieur à `b` et afficher un message adapté."
   ]
  },
  {
   "cell_type": "code",
   "execution_count": 2,
   "id": "d48c436c-c6f5-4c87-a039-34e0db9cc7ad",
   "metadata": {},
   "outputs": [
    {
     "name": "stdout",
     "output_type": "stream",
     "text": [
      "a est supérieur à b\n"
     ]
    }
   ],
   "source": [
    "# Condition pour comparer a et b\n",
    "if a > b:\n",
    "    print(\"a est supérieur à b\")\n",
    "elif a == b:\n",
    "    print(\"a est égal à b\")\n",
    "else:\n",
    "    print(\"a est inférieur à b\")"
   ]
  },
  {
   "cell_type": "markdown",
   "id": "47314d06-9ebe-4e48-a432-b9a44ca37981",
   "metadata": {},
   "source": [
    "## 🔁 Partie 3 – Boucles"
   ]
  },
  {
   "cell_type": "markdown",
   "id": "c895d409-deb8-427e-8bfd-9123bb31c25d",
   "metadata": {},
   "source": [
    "### 🔸 Boucle for\n",
    "\n",
    "Affiche les nombres de 1 à 10."
   ]
  },
  {
   "cell_type": "code",
   "execution_count": 3,
   "id": "39b10993-1a6d-42ee-92e9-f0fd19b23fa0",
   "metadata": {},
   "outputs": [
    {
     "name": "stdout",
     "output_type": "stream",
     "text": [
      "Valeur de i : 1\n",
      "Valeur de i : 2\n",
      "Valeur de i : 3\n",
      "Valeur de i : 4\n",
      "Valeur de i : 5\n",
      "Valeur de i : 6\n",
      "Valeur de i : 7\n",
      "Valeur de i : 8\n",
      "Valeur de i : 9\n",
      "Valeur de i : 10\n"
     ]
    }
   ],
   "source": [
    "# Boucle for de 1 à 10\n",
    "for i in range(1, 11):\n",
    "    print(\"Valeur de i :\", i)"
   ]
  },
  {
   "cell_type": "markdown",
   "id": "1a1b104c-8936-4381-9578-fced7db448e1",
   "metadata": {},
   "source": [
    "### 🔸 Boucle while\n",
    "\n",
    "Soustrait 1 de `b` jusqu'à ce qu'il atteigne zéro."
   ]
  },
  {
   "cell_type": "code",
   "execution_count": 4,
   "id": "0be49f05-10ad-4068-a777-9db28b5993d3",
   "metadata": {},
   "outputs": [
    {
     "name": "stdout",
     "output_type": "stream",
     "text": [
      "Valeur actuelle de b : 4\n",
      "Valeur actuelle de b : 3\n",
      "Valeur actuelle de b : 2\n",
      "Valeur actuelle de b : 1\n"
     ]
    }
   ],
   "source": [
    "# Réinitialisation de b\n",
    "b = 4\n",
    "\n",
    "# Boucle while\n",
    "while b > 0:\n",
    "    print(\"Valeur actuelle de b :\", b)\n",
    "    b -= 1"
   ]
  },
  {
   "cell_type": "markdown",
   "id": "829e9c20-0279-4635-9c21-361ee2e6ea6a",
   "metadata": {},
   "source": [
    "--- \n",
    "\n",
    "🎉 **Bravo !**\n",
    "\n",
    "Vous venez de franchir une étape essentielle dans votre apprentissage de Python.\n",
    "Vous savez maintenant manipuler des variables, effectuer des calculs, utiliser des conditions et créer des boucles — c’est le cœur de tout programme. Continuez à pratiquer et à expérimenter, chaque ligne de code vous rapproche de la maîtrise ! 💪🐍"
   ]
  }
 ],
 "metadata": {
  "kernelspec": {
   "display_name": "Python 3 (ipykernel)",
   "language": "python",
   "name": "python3"
  },
  "language_info": {
   "codemirror_mode": {
    "name": "ipython",
    "version": 3
   },
   "file_extension": ".py",
   "mimetype": "text/x-python",
   "name": "python",
   "nbconvert_exporter": "python",
   "pygments_lexer": "ipython3",
   "version": "3.9.12"
  }
 },
 "nbformat": 4,
 "nbformat_minor": 5
}
