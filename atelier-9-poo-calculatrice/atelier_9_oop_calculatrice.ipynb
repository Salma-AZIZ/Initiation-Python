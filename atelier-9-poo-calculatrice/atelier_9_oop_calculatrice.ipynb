{
 "cells": [
  {
   "cell_type": "markdown",
   "id": "6f7f87c2",
   "metadata": {},
   "source": [
    "# Atelier 9 – Programmation Orientée Objet avec une Calculatrice\n",
    "\n",
    "Dans cet atelier, nous avons refactorisé une application simple de calculatrice pour appliquer les concepts fondamentaux de la programmation orientée objet en Python.\n",
    "\n",
    "Les concepts abordés :\n",
    "- Refactorisation d’un script procédural en POO\n",
    "- Encapsulation\n",
    "- Héritage\n",
    "- Polymorphisme\n",
    "- Introspection\n"
   ]
  },
  {
   "cell_type": "markdown",
   "id": "55a76906-4b89-4383-a59e-8a725eaba0cc",
   "metadata": {},
   "source": [
    "### Example de script initial (procédural) :"
   ]
  },
  {
   "cell_type": "code",
   "execution_count": 6,
   "id": "d8a65770-8239-4a75-9e4a-d8257add68e9",
   "metadata": {},
   "outputs": [
    {
     "name": "stdout",
     "output_type": "stream",
     "text": [
      "15\n",
      "5\n"
     ]
    }
   ],
   "source": [
    "def addition(a, b):\n",
    "    return a + b\n",
    "\n",
    "def soustraction(a, b):\n",
    "    return a - b\n",
    "\n",
    "print(addition(10, 5))\n",
    "print(soustraction(10, 5))"
   ]
  },
  {
   "cell_type": "markdown",
   "id": "d10f7fb9-76d8-40c5-ba9a-b82af14482d8",
   "metadata": {},
   "source": [
    "### Version orientée objet :"
   ]
  },
  {
   "cell_type": "code",
   "execution_count": 1,
   "id": "3fb68f6b",
   "metadata": {},
   "outputs": [],
   "source": [
    "class Calculatrice:\n",
    "    def __init__(self):\n",
    "        self._historique = []\n",
    "\n",
    "    def addition(self, a, b):\n",
    "        resultat = a + b\n",
    "        self._ajouter_historique(f\"Addition: {a} + {b} = {resultat}\")\n",
    "        return resultat\n",
    "\n",
    "    def soustraction(self, a, b):\n",
    "        resultat = a - b\n",
    "        self._ajouter_historique(f\"Soustraction: {a} - {b} = {resultat}\")\n",
    "        return resultat\n",
    "\n",
    "    def multiplication(self, a, b):\n",
    "        resultat = a * b\n",
    "        self._ajouter_historique(f\"Multiplication: {a} * {b} = {resultat}\")\n",
    "        return resultat\n",
    "\n",
    "    def division(self, a, b):\n",
    "        if b == 0:\n",
    "            self._ajouter_historique(\"Erreur: Division par zéro\")\n",
    "            return \"Erreur : Division par zéro.\"\n",
    "        resultat = a / b\n",
    "        self._ajouter_historique(f\"Division: {a} / {b} = {resultat}\")\n",
    "        return resultat\n",
    "\n",
    "    def _ajouter_historique(self, operation):\n",
    "        self._historique.append(operation)\n",
    "\n",
    "    def afficher_historique(self):\n",
    "        return self._historique\n"
   ]
  },
  {
   "cell_type": "code",
   "execution_count": 2,
   "id": "344a32f6",
   "metadata": {},
   "outputs": [],
   "source": [
    "import math\n",
    "\n",
    "class CalculatriceScientifique(Calculatrice):\n",
    "    def puissance(self, a, b):\n",
    "        resultat = math.pow(a, b)\n",
    "        self._ajouter_historique(f\"Puissance: {a}^{b} = {resultat}\")\n",
    "        return resultat\n",
    "\n",
    "    def racine(self, a):\n",
    "        resultat = math.sqrt(a)\n",
    "        self._ajouter_historique(f\"Racine: √{a} = {resultat}\")\n",
    "        return resultat\n"
   ]
  },
  {
   "cell_type": "code",
   "execution_count": 3,
   "id": "b28a1337",
   "metadata": {},
   "outputs": [
    {
     "name": "stdout",
     "output_type": "stream",
     "text": [
      "15\n",
      "4.0\n",
      "8.0\n"
     ]
    }
   ],
   "source": [
    "calc = CalculatriceScientifique()\n",
    "print(calc.addition(10, 5))\n",
    "print(calc.racine(16))\n",
    "print(calc.puissance(2, 3))\n"
   ]
  },
  {
   "cell_type": "code",
   "execution_count": 4,
   "id": "2fcb6d1d",
   "metadata": {},
   "outputs": [
    {
     "name": "stdout",
     "output_type": "stream",
     "text": [
      "10\n"
     ]
    }
   ],
   "source": [
    "def appliquer_operation(operation_obj, a, b):\n",
    "    return operation_obj(a, b)\n",
    "\n",
    "print(appliquer_operation(calc.addition, 3, 7))\n"
   ]
  },
  {
   "cell_type": "code",
   "execution_count": 5,
   "id": "1cc6f8d5",
   "metadata": {},
   "outputs": [
    {
     "name": "stdout",
     "output_type": "stream",
     "text": [
      "Afficher l'historique des opérations : ['Addition: 10 + 5 = 15', 'Racine: √16 = 4.0', 'Puissance: 2^3 = 8.0', 'Addition: 3 + 7 = 10']\n",
      "Attributs de calc : ['__class__', '__delattr__', '__dict__', '__dir__', '__doc__', '__eq__', '__format__', '__ge__', '__getattribute__', '__gt__', '__hash__', '__init__', '__init_subclass__', '__le__', '__lt__', '__module__', '__ne__', '__new__', '__reduce__', '__reduce_ex__', '__repr__', '__setattr__', '__sizeof__', '__str__', '__subclasshook__', '__weakref__', '_ajouter_historique', '_historique', 'addition', 'afficher_historique', 'division', 'multiplication', 'puissance', 'racine', 'soustraction']\n",
      "Type de calc : <class '__main__.CalculatriceScientifique'>\n",
      "Dictionnaire interne : {'_historique': ['Addition: 10 + 5 = 15', 'Racine: √16 = 4.0', 'Puissance: 2^3 = 8.0', 'Addition: 3 + 7 = 10']}\n"
     ]
    }
   ],
   "source": [
    "print(\"Afficher l'historique des opérations :\", calc.afficher_historique())\n",
    "print(\"Attributs de calc :\", dir(calc))\n",
    "print(\"Type de calc :\", type(calc))\n",
    "print(\"Dictionnaire interne :\", calc.__dict__)\n"
   ]
  },
  {
   "cell_type": "markdown",
   "id": "97a1f58e",
   "metadata": {},
   "source": [
    "## 🎉 **Bravo !**\n",
    "Vous avez construit une **calculatrice orientée objet** en mettant en pratique les concepts clés de la programmation orientée objet :\n",
    "\n",
    "* Une classe de base avec une bonne **encapsulation** des données,\n",
    "* De l’**héritage** pour enrichir les fonctionnalités sans dupliquer le code,\n",
    "* Du **polymorphisme** pour utiliser différentes opérations de manière interchangeable,\n",
    "* De l’**introspection** pour explorer dynamiquement vos objets.\n",
    "\n",
    "Ce modèle constitue une **excellente base pour développer des applications plus complexes**, modulaires et maintenables. Vous êtes désormais prêt(e) à appliquer ces principes dans des projets concrets et évolutifs !"
   ]
  }
 ],
 "metadata": {
  "kernelspec": {
   "display_name": "Python 3 (ipykernel)",
   "language": "python",
   "name": "python3"
  },
  "language_info": {
   "codemirror_mode": {
    "name": "ipython",
    "version": 3
   },
   "file_extension": ".py",
   "mimetype": "text/x-python",
   "name": "python",
   "nbconvert_exporter": "python",
   "pygments_lexer": "ipython3",
   "version": "3.9.12"
  }
 },
 "nbformat": 4,
 "nbformat_minor": 5
}
