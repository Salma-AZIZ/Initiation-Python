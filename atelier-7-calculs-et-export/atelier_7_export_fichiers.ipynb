{
 "cells": [
  {
   "cell_type": "markdown",
   "id": "06c955a7",
   "metadata": {},
   "source": [
    "# Atelier Chapitre 7 – Exporter les résultats des calculs dans des fichiers\n",
    "\n",
    "Dans cet atelier, nous allons apprendre à exporter des résultats d’analyse sous différents formats : CSV, Excel, PDF.\n",
    "\n",
    "**Objectifs :**\n",
    "- Exporter des résultats de calcul dans des fichiers CSV et Excel\n",
    "- Générer un rapport PDF contenant les résultats et une visualisation\n",
    "- Comparer les différents formats\n"
   ]
  },
  {
   "cell_type": "code",
   "execution_count": 2,
   "id": "f368ab61",
   "metadata": {},
   "outputs": [],
   "source": [
    "# Importation des bibliothèques nécessaires\n",
    "import pandas as pd\n",
    "from fpdf import FPDF\n",
    "import matplotlib.pyplot as plt"
   ]
  },
  {
   "cell_type": "markdown",
   "id": "da9ae2c8",
   "metadata": {},
   "source": [
    "## Étape 1 – Création des résultats d’analyse simulés"
   ]
  },
  {
   "cell_type": "markdown",
   "id": "02c9c7b4-4a2f-4275-8b84-38051daf5163",
   "metadata": {},
   "source": [
    "Simulation des données d’un test de logique chronométré (score et temps par participant)."
   ]
  },
  {
   "cell_type": "code",
   "execution_count": 7,
   "id": "94993647-5732-4f7a-a764-e6317fb90dd9",
   "metadata": {},
   "outputs": [
    {
     "data": {
      "text/html": [
       "<div>\n",
       "<style scoped>\n",
       "    .dataframe tbody tr th:only-of-type {\n",
       "        vertical-align: middle;\n",
       "    }\n",
       "\n",
       "    .dataframe tbody tr th {\n",
       "        vertical-align: top;\n",
       "    }\n",
       "\n",
       "    .dataframe thead th {\n",
       "        text-align: right;\n",
       "    }\n",
       "</style>\n",
       "<table border=\"1\" class=\"dataframe\">\n",
       "  <thead>\n",
       "    <tr style=\"text-align: right;\">\n",
       "      <th></th>\n",
       "      <th>Nom</th>\n",
       "      <th>Score</th>\n",
       "      <th>Temps (s)</th>\n",
       "    </tr>\n",
       "  </thead>\n",
       "  <tbody>\n",
       "    <tr>\n",
       "      <th>0</th>\n",
       "      <td>Alice</td>\n",
       "      <td>85</td>\n",
       "      <td>34.5</td>\n",
       "    </tr>\n",
       "    <tr>\n",
       "      <th>1</th>\n",
       "      <td>Bob</td>\n",
       "      <td>92</td>\n",
       "      <td>29.3</td>\n",
       "    </tr>\n",
       "  </tbody>\n",
       "</table>\n",
       "</div>"
      ],
      "text/plain": [
       "     Nom  Score  Temps (s)\n",
       "0  Alice     85       34.5\n",
       "1    Bob     92       29.3"
      ]
     },
     "execution_count": 7,
     "metadata": {},
     "output_type": "execute_result"
    }
   ],
   "source": [
    "# Simulation de résultats d'analyse\n",
    "data = {\n",
    "    'Nom': ['Alice', 'Bob', 'Charlie', 'Diana'],\n",
    "    'Score': [85, 92, 78, 90],\n",
    "    'Temps (s)': [34.5, 29.3, 45.6, 31.2]\n",
    "}\n",
    "df = pd.DataFrame(data)\n",
    "df.head(2)"
   ]
  },
  {
   "cell_type": "markdown",
   "id": "9f7b25e1",
   "metadata": {},
   "source": [
    "## Étape 2 – Exportation en CSV"
   ]
  },
  {
   "cell_type": "code",
   "execution_count": 3,
   "id": "a6eb8031",
   "metadata": {},
   "outputs": [
    {
     "name": "stdout",
     "output_type": "stream",
     "text": [
      "Fichier CSV généré avec succès.\n"
     ]
    }
   ],
   "source": [
    "# Export vers un fichier CSV\n",
    "df.to_csv(\"resultats.csv\", index=False)\n",
    "print(\"Fichier CSV généré avec succès.\")"
   ]
  },
  {
   "cell_type": "markdown",
   "id": "c86ccec0",
   "metadata": {},
   "source": [
    "## Étape 3 – Exportation en Excel"
   ]
  },
  {
   "cell_type": "code",
   "execution_count": 4,
   "id": "380c1fa8",
   "metadata": {},
   "outputs": [
    {
     "name": "stdout",
     "output_type": "stream",
     "text": [
      "Fichier Excel généré avec succès.\n"
     ]
    }
   ],
   "source": [
    "# Export vers un fichier Excel\n",
    "df.to_excel(\"resultats.xlsx\", index=False)\n",
    "print(\"Fichier Excel généré avec succès.\")"
   ]
  },
  {
   "cell_type": "markdown",
   "id": "dfc7edf5",
   "metadata": {},
   "source": [
    "## Étape 4 – Génération d’un PDF avec graphique"
   ]
  },
  {
   "cell_type": "code",
   "execution_count": 5,
   "id": "5055e849",
   "metadata": {},
   "outputs": [
    {
     "name": "stdout",
     "output_type": "stream",
     "text": [
      "Rapport PDF généré avec succès.\n"
     ]
    }
   ],
   "source": [
    "# Création d’un graphique\n",
    "plt.figure(figsize=(6, 4))\n",
    "plt.bar(df['Nom'], df['Score'], color='skyblue')\n",
    "plt.title(\"Scores des participants\")\n",
    "plt.xlabel(\"Nom\")\n",
    "plt.ylabel(\"Score\")\n",
    "plt.tight_layout()\n",
    "plt.savefig(\"graphique.png\")\n",
    "plt.close()\n",
    "\n",
    "# Création du PDF\n",
    "pdf = FPDF()\n",
    "pdf.add_page()\n",
    "pdf.set_font(\"Arial\", size=12)\n",
    "pdf.cell(200, 10, txt=\"Rapport d'Analyse des Scores\", ln=True, align='C')\n",
    "pdf.ln(10)\n",
    "pdf.multi_cell(0, 10, txt=(\n",
    "    \"Ce rapport présente les résultats d'une analyse simple des scores obtenus par quatre participants.\\n\"\n",
    "    \"Résumé :\\n\"\n",
    "    f\" - Score moyen : {df['Score'].mean():.2f}\\n\"\n",
    "    f\" - Score maximal : {df['Score'].max()}\\n\"\n",
    "    f\" - Score minimal : {df['Score'].min()}\\n\"\n",
    "))\n",
    "pdf.image(\"graphique.png\", x=30, w=150)\n",
    "pdf.output(\"rapport_resultats.pdf\")\n",
    "print(\"Rapport PDF généré avec succès.\")"
   ]
  },
  {
   "cell_type": "markdown",
   "id": "907238e8",
   "metadata": {},
   "source": [
    "## Étape 5 – Comparaison des formats\n",
    "- **CSV** : Léger, universel, mais ne gère pas bien la mise en forme.\n",
    "- **Excel** : Plus riche, permet des formules, des couleurs, mais dépend d’un logiciel spécifique.\n",
    "- **PDF** : Parfait pour le partage fixe de résultats avec mise en forme et visualisation.\n"
   ]
  },
  {
   "cell_type": "markdown",
   "id": "6552f563",
   "metadata": {},
   "source": [
    "## 🎉 Félicitations !\n",
    "Vous avez appris à exporter des données vers des formats professionnels et adaptés à différents usages. Continuez à structurer vos résultats proprement pour mieux valoriser vos analyses !\n"
   ]
  }
 ],
 "metadata": {
  "kernelspec": {
   "display_name": "Python 3 (ipykernel)",
   "language": "python",
   "name": "python3"
  },
  "language_info": {
   "codemirror_mode": {
    "name": "ipython",
    "version": 3
   },
   "file_extension": ".py",
   "mimetype": "text/x-python",
   "name": "python",
   "nbconvert_exporter": "python",
   "pygments_lexer": "ipython3",
   "version": "3.9.12"
  }
 },
 "nbformat": 4,
 "nbformat_minor": 5
}
