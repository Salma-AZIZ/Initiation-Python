{
 "cells": [
  {
   "cell_type": "markdown",
   "id": "e6a6688b",
   "metadata": {},
   "source": [
    "# 🔁 Atelier 4 – Convertir des scripts par différentes méthodes\n",
    "\n",
    "## 🎯 Objectifs pédagogiques\n",
    "\n",
    "- Utiliser les **boucles for**, **while**, et la **récursivité** pour résoudre le même problème\n",
    "- Comparer la **lisibilité** et la **performance** de chaque méthode\n",
    "- Appliquer de bonnes pratiques dans l’écriture de code répétitif\n"
   ]
  },
  {
   "cell_type": "markdown",
   "id": "65832f2b",
   "metadata": {},
   "source": [
    "## 1️⃣ Boucle `for`\n",
    "\n",
    "### 📌 Somme des carrés des entiers de 1 à 10"
   ]
  },
  {
   "cell_type": "code",
   "execution_count": 1,
   "id": "737189fd",
   "metadata": {},
   "outputs": [
    {
     "name": "stdout",
     "output_type": "stream",
     "text": [
      "Somme des carrés (for) : 385\n"
     ]
    }
   ],
   "source": [
    "def somme_carres_for():\n",
    "    total = 0\n",
    "    for i in range(1, 11):\n",
    "        total += i ** 2\n",
    "    return total\n",
    "\n",
    "# Test\n",
    "print(\"Somme des carrés (for) :\", somme_carres_for())"
   ]
  },
  {
   "cell_type": "markdown",
   "id": "328df3b9",
   "metadata": {},
   "source": [
    "## 2️⃣ Boucle `while`\n",
    "\n",
    "### 📌 Même calcul avec une boucle `while`"
   ]
  },
  {
   "cell_type": "code",
   "execution_count": 2,
   "id": "2df27797",
   "metadata": {},
   "outputs": [
    {
     "name": "stdout",
     "output_type": "stream",
     "text": [
      "Somme des carrés (while) : 385\n"
     ]
    }
   ],
   "source": [
    "def somme_carres_while():\n",
    "    total = 0\n",
    "    i = 1\n",
    "    while i <= 10:\n",
    "        total += i ** 2\n",
    "        i += 1\n",
    "    return total\n",
    "\n",
    "# Test\n",
    "print(\"Somme des carrés (while) :\", somme_carres_while())"
   ]
  },
  {
   "cell_type": "markdown",
   "id": "48fa78f8",
   "metadata": {},
   "source": [
    "## 3️⃣ Récursivité\n",
    "\n",
    "### 📌 Même calcul avec une fonction récursive"
   ]
  },
  {
   "cell_type": "code",
   "execution_count": 3,
   "id": "51887880",
   "metadata": {},
   "outputs": [
    {
     "name": "stdout",
     "output_type": "stream",
     "text": [
      "Somme des carrés (récursif) : 385\n"
     ]
    }
   ],
   "source": [
    "def somme_carres_recursive(n):\n",
    "    if n == 0:\n",
    "        return 0\n",
    "    else:\n",
    "        return n ** 2 + somme_carres_recursive(n - 1)\n",
    "\n",
    "# Test\n",
    "print(\"Somme des carrés (récursif) :\", somme_carres_recursive(10))"
   ]
  },
  {
   "cell_type": "markdown",
   "id": "71dcfc61",
   "metadata": {},
   "source": [
    "## 4️⃣ Comparaison des approches\n",
    "\n",
    "### ✅ Avantages et inconvénients"
   ]
  },
  {
   "cell_type": "markdown",
   "id": "d40619aa",
   "metadata": {},
   "source": [
    "| Méthode       | Avantages                                            | Inconvénients                                      |\n",
    "|---------------|------------------------------------------------------|----------------------------------------------------|\n",
    "| Boucle `for`  | Simple, lisible, adaptée à une plage de valeurs      | Peu flexible si condition complexe                 |\n",
    "| Boucle `while`| Flexible, fonctionne avec condition dynamique        | Moins lisible, nécessite un contrôle précis        |\n",
    "| Récursivité   | Élégante, proche de la logique mathématique          | Risque de dépassement de pile (stack overflow), moins intuitive |\n",
    "\n",
    "👉 **Performance** : Pour des cas simples, `for` et `while` sont plus efficaces que la récursivité.  \n",
    "👉 **Lisibilité** : La récursivité peut être lisible si le problème s'y prête (ex. arborescences).  \n"
   ]
  },
  {
   "cell_type": "markdown",
   "id": "924f5cde",
   "metadata": {},
   "source": [
    "---\n",
    "\n",
    "## 🎉 Félicitations !\n",
    "\n",
    "Vous avez testé différentes manières d’accomplir une même tâche en Python :\n",
    "- avec une boucle `for` classique,\n",
    "- avec une boucle `while`,\n",
    "- et en utilisant la récursivité.\n",
    "\n",
    "Chaque méthode a ses **forces et ses limites**. L’important est de choisir celle qui est **la plus adaptée** au problème à résoudre.\n",
    "\n",
    "Continuez à pratiquer pour bien intégrer ces concepts fondamentaux. 🐍🚀\n"
   ]
  }
 ],
 "metadata": {
  "kernelspec": {
   "display_name": "Python 3 (ipykernel)",
   "language": "python",
   "name": "python3"
  },
  "language_info": {
   "codemirror_mode": {
    "name": "ipython",
    "version": 3
   },
   "file_extension": ".py",
   "mimetype": "text/x-python",
   "name": "python",
   "nbconvert_exporter": "python",
   "pygments_lexer": "ipython3",
   "version": "3.9.12"
  }
 },
 "nbformat": 4,
 "nbformat_minor": 5
}
